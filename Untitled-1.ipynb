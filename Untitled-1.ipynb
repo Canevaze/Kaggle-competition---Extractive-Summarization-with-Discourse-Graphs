{
 "cells": [
  {
   "cell_type": "code",
   "execution_count": 1,
   "metadata": {},
   "outputs": [
    {
     "ename": "ModuleNotFoundError",
     "evalue": "No module named 'torch'",
     "output_type": "error",
     "traceback": [
      "\u001b[1;31m---------------------------------------------------------------------------\u001b[0m",
      "\u001b[1;31mModuleNotFoundError\u001b[0m                       Traceback (most recent call last)",
      "\u001b[1;32mUntitled-1.ipynb Cell 1\u001b[0m line \u001b[0;36m1\n\u001b[1;32m----> <a href='vscode-notebook-cell:Untitled-1.ipynb?jupyter-notebook#W1sdW50aXRsZWQ%3D?line=0'>1</a>\u001b[0m \u001b[39mimport\u001b[39;00m \u001b[39mtorch\u001b[39;00m\n\u001b[0;32m      <a href='vscode-notebook-cell:Untitled-1.ipynb?jupyter-notebook#W1sdW50aXRsZWQ%3D?line=1'>2</a>\u001b[0m \u001b[39mimport\u001b[39;00m \u001b[39mtorch\u001b[39;00m\u001b[39m.\u001b[39;00m\u001b[39mnn\u001b[39;00m \u001b[39mas\u001b[39;00m \u001b[39mnn\u001b[39;00m\n\u001b[0;32m      <a href='vscode-notebook-cell:Untitled-1.ipynb?jupyter-notebook#W1sdW50aXRsZWQ%3D?line=2'>3</a>\u001b[0m \u001b[39mimport\u001b[39;00m \u001b[39mtorch\u001b[39;00m\u001b[39m.\u001b[39;00m\u001b[39mnn\u001b[39;00m\u001b[39m.\u001b[39;00m\u001b[39mfunctional\u001b[39;00m \u001b[39mas\u001b[39;00m \u001b[39mF\u001b[39;00m\n",
      "\u001b[1;31mModuleNotFoundError\u001b[0m: No module named 'torch'"
     ]
    }
   ],
   "source": [
    "import torch\n",
    "import torch.nn as nn\n",
    "import torch.nn.functional as F\n",
    "from torch_geometric.nn import GCNConv\n"
   ]
  },
  {
   "cell_type": "code",
   "execution_count": null,
   "metadata": {},
   "outputs": [],
   "source": [
    "import torch\n",
    "from torch_geometric.data import Data\n",
    "import networkx as nx\n",
    "import numpy as np\n",
    "\n",
    "# Supposons que G est votre graphe NetworkX\n",
    "G = nx.Graph()\n",
    "# Ajoutez des nœuds et des arêtes à votre graphe G\n",
    "\n",
    "# Convertir les nœuds en caractéristiques (features) du graphe\n",
    "num_nodes = len(G.nodes)\n",
    "features = torch.eye(num_nodes)  # Utilisation de l'identité comme caractéristiques par défaut\n",
    "\n",
    "# Convertir les arêtes en une liste d'indices d'arêtes (edge_index)\n",
    "edges = list(G.edges)\n",
    "edge_index = torch.tensor(list(zip(*edges)), dtype=torch.long)\n",
    "\n",
    "# Créer les étiquettes (labels) si vous en avez\n",
    "# Supposons que labels soit un dictionnaire où les clés sont les nœuds et les valeurs sont les étiquettes\n",
    "labels = torch.tensor([labels[node] for node in G.nodes], dtype=torch.long)\n",
    "\n",
    "# Créer l'objet Data\n",
    "data = Data(x=features, edge_index=edge_index, y=labels)\n",
    "\n",
    "# Ajoutez d'autres informations au besoin, comme les attributs du graphe, les arêtes dirigées, etc.\n",
    "\n",
    "# Utilisez maintenant cet objet Data avec votre modèle GNN\n"
   ]
  },
  {
   "cell_type": "code",
   "execution_count": null,
   "metadata": {},
   "outputs": [],
   "source": [
    "\n",
    "class GNNModel(nn.Module):\n",
    "    def __init__(self, num_features, hidden_dim, num_classes):\n",
    "        super(GNNModel, self).__init__()\n",
    "        self.conv1 = GCNConv(num_features, hidden_dim)\n",
    "        self.conv2 = GCNConv(hidden_dim, num_classes)\n",
    "\n",
    "    def forward(self, data):\n",
    "        x, edge_index = data.x, data.edge_index\n",
    "\n",
    "        x = F.relu(self.conv1(x, edge_index))\n",
    "        x = F.dropout(x, training=self.training)\n",
    "        x = self.conv2(x, edge_index)\n",
    "\n",
    "        return F.log_softmax(x, dim=1)\n",
    "\n",
    "# Exemple d'utilisation\n",
    "model = GNNModel(num_features=your_num_features, hidden_dim=64, num_classes=2)\n",
    "optimizer = torch.optim.Adam(model.parameters(), lr=0.01)\n",
    "\n",
    "# Entraînement\n",
    "model.train()\n",
    "for epoch in range(num_epochs):\n",
    "    optimizer.zero_grad()\n",
    "    output = model(your_graph_data)\n",
    "    loss = your_loss_function(output, your_ground_truth_labels)\n",
    "    loss.backward()\n",
    "    optimizer.step()\n",
    "\n",
    "# Évaluation\n",
    "model.eval()\n",
    "with torch.no_grad():\n",
    "    output = model(your_test_data)\n",
    "    predicted_labels = output.argmax(dim=1)\n",
    "    # Évaluez la performance du modèle selon vos critères"
   ]
  },
  {
   "cell_type": "code",
   "execution_count": null,
   "metadata": {},
   "outputs": [],
   "source": []
  }
 ],
 "metadata": {
  "kernelspec": {
   "display_name": "Python 3",
   "language": "python",
   "name": "python3"
  },
  "language_info": {
   "codemirror_mode": {
    "name": "ipython",
    "version": 3
   },
   "file_extension": ".py",
   "mimetype": "text/x-python",
   "name": "python",
   "nbconvert_exporter": "python",
   "pygments_lexer": "ipython3",
   "version": "3.11.6"
  }
 },
 "nbformat": 4,
 "nbformat_minor": 2
}
